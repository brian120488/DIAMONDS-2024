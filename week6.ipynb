{
 "cells": [
  {
   "cell_type": "code",
   "execution_count": 73,
   "metadata": {},
   "outputs": [],
   "source": [
    "import pandas as pd\n",
    "from biopandas.pdb import PandasPdb\n",
    "from prody import parsePDBHeader\n",
    "from typing import Optional\n",
    "\n",
    "def read_pdb_to_dataframe(\n",
    "    pdb_path: Optional[str] = None,\n",
    "    model_index: int = 1,\n",
    "    parse_header: bool = True,\n",
    "    ) -> pd.DataFrame:\n",
    "    \"\"\"\n",
    "    Read a PDB file, and return a Pandas DataFrame containing the atomic coordinates and metadata.\n",
    "\n",
    "    Args:\n",
    "        pdb_path (str, optional): Path to a local PDB file to read. Defaults to None.\n",
    "        model_index (int, optional): Index of the model to extract from the PDB file, in case\n",
    "            it contains multiple models. Defaults to 1.\n",
    "        parse_header (bool, optional): Whether to parse the PDB header and extract metadata.\n",
    "            Defaults to True.\n",
    "\n",
    "    Returns:\n",
    "        pd.DataFrame: A DataFrame containing the atomic coordinates and metadata, with one row\n",
    "            per atom\n",
    "    \"\"\"\n",
    "    atomic_df = PandasPdb().read_pdb(pdb_path)\n",
    "    if parse_header:\n",
    "        header = parsePDBHeader(pdb_path)\n",
    "    else:\n",
    "        header = None\n",
    "    atomic_df = atomic_df.get_model(model_index)\n",
    "    if len(atomic_df.df[\"ATOM\"]) == 0:\n",
    "        raise ValueError(f\"No model found for index: {model_index}\")\n",
    "\n",
    "    return pd.concat([atomic_df.df[\"ATOM\"], atomic_df.df[\"HETATM\"]]), header\n",
    "\n",
    "\n",
    "import numpy as np\n",
    "import math\n",
    "\n",
    "def k(x, y, sig=1):\n",
    "    r = np.linalg.norm(x - y)\n",
    "    return np.exp(-0.5 * np.square(r) / np.square(sig))\n",
    "\n",
    "def GaussianKernel(X, sig=1):\n",
    "    n = X.shape[0]\n",
    "    kernel = np.empty((n,n))\n",
    "    for i in range(n):\n",
    "        for j in range(n):\n",
    "            kernel[i, j] = k(X[i], X[j], sig)\n",
    "    return kernel / n\n",
    "    # return kernel\n",
    "\n",
    "def get_approximation(A, r):\n",
    "    U, S, Vh = np.linalg.svd(A, full_matrices=True)\n",
    "    return U[:, :r] @ np.diag(S[:r]) @ Vh[:r, :]\n",
    "\n",
    "def NystromMatrix(K, m, l):\n",
    "    A = K[:m, :m]\n",
    "    B = K[:m, m:]\n",
    "    C = K[m:, m:]\n",
    "\n",
    "    A_tilda = get_approximation(A, l)\n",
    "    C_tilda = B.T @ np.linalg.pinv(A_tilda) @ B\n",
    "    return np.block([[A, B], [B.T, C_tilda]])\n",
    "    \n",
    "def relative_error(A, A_tilda, norm):\n",
    "    eps = np.linalg.norm(A - A_tilda, ord=norm)\n",
    "    return eps / np.linalg.norm(A, ord=norm)\n",
    "\n",
    "def procrustes(P1, P2):\n",
    "    U, S, Vh = np.linalg.svd(P2.T @ P1, full_matrices=True)\n",
    "    return Vh.T @ U.T\n",
    "\n",
    "def rmse(A, B):\n",
    "    return np.sqrt(np.mean((A - B) ** 2))\n",
    "\n",
    "def sparse(X, A, B, G):\n",
    "    import cvxpy \n",
    "    Weight_B1 = np.zeros((m-1, n))\n",
    "    for i in range(n):\n",
    "        Weight_B1[:r, i] = 1\n",
    "\n",
    "    Weight = np.vstack((Weight_B1, np.zeros(n)))\n",
    "\n",
    "    I,J = np.nonzero(Weight)\n",
    "    M = np.repeat(m-1, J.size)\n",
    "\n",
    "    Xr = X\n",
    "    Yr = cvxpy.Variable(shape=(r,n))\n",
    "\n",
    "    Xty = Xr.T @ Yr\n",
    "\n",
    "    constraints = [Xty[I, J] - Xty[M, J] == B[I, J] - B[M, J]]\n",
    "\n",
    "    # dummy minimization\n",
    "    p = cvxpy.Problem(cvxpy.Minimize(0), constraints)\n",
    "\n",
    "    p.solve()\n",
    "\n",
    "    if p.status in [\"infeasible\", \"unbounded\"]:\n",
    "        raise Exception(p.status)\n",
    "\n",
    "    Yr = Yr.value\n",
    "    Br = Xr.T @ Yr\n",
    "\n",
    "    # Approximation of G using modified Nystrom\n",
    "    G_mod1 = np.block([[A, Br], [Br.T, Yr.T @ Yr]])\n",
    "    G_mod2 = np.block([[A, Br], [Br.T, Br.T @ np.linalg.pinv(A) @ Br]])\n",
    "\n",
    "    error2 = np.linalg.norm(G-G_mod1,'fro')/np.linalg.norm(G,'fro')\n",
    "    error3 = np.linalg.norm(G-G_mod2,'fro')/np.linalg.norm(G,'fro')\n",
    "\n",
    "    print(error2)\n",
    "    print(error3)"
   ]
  },
  {
   "cell_type": "code",
   "execution_count": 35,
   "metadata": {},
   "outputs": [],
   "source": [
    "df, df_header = read_pdb_to_dataframe('ranked_0.pdb')\n",
    "df.sort_values(by=\"b_factor\", axis=0, ascending=False, inplace=True)\n",
    "P = df[[\"x_coord\", \"y_coord\", \"z_coord\"]].values\n",
    "P = P - np.mean(P, axis=0)\n",
    "# plddt = { residue : score for residue, score in zip(df['residue_number'], df['b_factor']) }\n",
    "\n",
    "# from scipy.spatial import distance_matrix\n",
    "# D = distance_matrix(X, X)\n",
    "# df[df[\"b_factor\"] < 70]\n",
    "# df.head(100)"
   ]
  },
  {
   "cell_type": "code",
   "execution_count": 85,
   "metadata": {},
   "outputs": [],
   "source": [
    "n = 1200\n",
    "m, r = P.shape[0] - n, 3\n",
    "\n",
    "# create Gram matrix\n",
    "X = P[:m, :]\n",
    "Y = P[m:,:]\n",
    "A = X @ X.T\n",
    "B = X @ Y.T\n",
    "C = Y @ Y.T\n",
    "G = np.block([[A, B], [B.T, C]])\n",
    "\n",
    "G = np.rot90(G)\n",
    "G = np.rot90(G)\n"
   ]
  },
  {
   "cell_type": "code",
   "execution_count": 86,
   "metadata": {},
   "outputs": [
    {
     "name": "stdout",
     "output_type": "stream",
     "text": [
      "1.7991706737579295e-13\n"
     ]
    }
   ],
   "source": [
    "# nystrom\n",
    "G_nys = NystromMatrix(G, m, r)\n",
    "# print(np.max(np.abs(G - G_nys)))\n",
    "# print(np.sum(np.abs(np.sum(G_nys))))\n",
    "D, U = np.linalg.eig(G_nys)\n",
    "P_nys = np.real(U[:, :r] @ np.sqrt(np.diag(D[:r])))\n",
    "# P_nys = P_nys - np.mean(P_nys, axis=0) not needed\n",
    "P_nys = np.flip(P_nys)\n",
    "R = procrustes(P_nys, P)\n",
    "print(rmse(P, P_nys @ R))"
   ]
  },
  {
   "cell_type": "code",
   "execution_count": 7,
   "metadata": {},
   "outputs": [
    {
     "name": "stderr",
     "output_type": "stream",
     "text": [
      "/Users/brian/Library/Python/3.9/lib/python/site-packages/cvxpy/reductions/solvers/solving_chain.py:336: FutureWarning: \n",
      "    Your problem is being solved with the ECOS solver by default. Starting in \n",
      "    CVXPY 1.5.0, Clarabel will be used as the default solver instead. To continue \n",
      "    using ECOS, specify the ECOS solver explicitly using the ``solver=cp.ECOS`` \n",
      "    argument to the ``problem.solve`` method.\n",
      "    \n",
      "  warnings.warn(ECOS_DEPRECATION_MSG, FutureWarning)\n"
     ]
    },
    {
     "name": "stdout",
     "output_type": "stream",
     "text": [
      "4.1658773692723906e-14\n",
      "7.505715349839378e-06\n"
     ]
    }
   ],
   "source": [
    "# sparse\n",
    "# print(X.T.shape, A.T.shape, B.T.shape)\n",
    "sparse(X.T, A.T, B, G)"
   ]
  }
 ],
 "metadata": {
  "kernelspec": {
   "display_name": "Python 3",
   "language": "python",
   "name": "python3"
  },
  "language_info": {
   "codemirror_mode": {
    "name": "ipython",
    "version": 3
   },
   "file_extension": ".py",
   "mimetype": "text/x-python",
   "name": "python",
   "nbconvert_exporter": "python",
   "pygments_lexer": "ipython3",
   "version": "3.9.6"
  }
 },
 "nbformat": 4,
 "nbformat_minor": 2
}
