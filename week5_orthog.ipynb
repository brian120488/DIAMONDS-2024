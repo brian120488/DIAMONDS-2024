{
 "cells": [
  {
   "cell_type": "code",
   "execution_count": 267,
   "metadata": {},
   "outputs": [],
   "source": [
    "import numpy as np\n",
    "import math\n",
    "\n",
    "def k(x, y, sig=1):\n",
    "    r = np.linalg.norm(x - y)\n",
    "    return np.exp(-0.5 * np.square(r) / np.square(sig))\n",
    "\n",
    "def GaussianKernel(X, sig=1):\n",
    "    n = X.shape[0]\n",
    "    kernel = np.empty((n,n))\n",
    "    for i in range(n):\n",
    "        for j in range(n):\n",
    "            kernel[i, j] = k(X[i], X[j], sig)\n",
    "    return kernel / n\n",
    "    # return kernel\n",
    "\n",
    "def get_approximation(A, r):\n",
    "    U, S, Vh = np.linalg.svd(A, full_matrices=True)\n",
    "    return U[:, :r] @ np.diag(S[:r]) @ Vh[:r, :]\n",
    "\n",
    "def NystromError(K, r):\n",
    "    A = K[:r, :r]\n",
    "    B = K[:r, r:]\n",
    "    C = K[r:, r:]\n",
    "\n",
    "    A_tilda = get_approximation(A, r)\n",
    "    C_tilda = B.T @ np.linalg.pinv(A_tilda) @ B\n",
    "    eps = np.linalg.norm(C - C_tilda, ord='fro')\n",
    "    return eps / np.linalg.norm(C, ord='fro')\n",
    "\n",
    "def average_orthog(K, r):\n",
    "    A = K[:r, :r]\n",
    "    B = K[:r, r:]\n",
    "    C = K[r:, r:]\n",
    "    L = []\n",
    "    \n",
    "    for i in range(B.shape[1]):\n",
    "        for j in range(A.shape[1]):\n",
    "            b_i = B[:, i].T\n",
    "            a_j = A[:, j]\n",
    "            length = np.linalg.norm(b_i) * np.linalg.norm(a_j)\n",
    "            # L.append(abs(b_i @ a_j / length))\n",
    "            theta = math.acos(b_i @ a_j / length)\n",
    "            L.append(math.degrees(theta))\n",
    "            \n",
    "    return np.mean(L)"
   ]
  },
  {
   "cell_type": "code",
   "execution_count": 182,
   "metadata": {},
   "outputs": [],
   "source": [
    "def sample_spherical(npoints, ndim=3):\n",
    "        vec = np.random.randn(ndim, npoints)\n",
    "        vec /= np.linalg.norm(vec, axis=0)\n",
    "        return vec\n",
    "\n",
    "def generate_sphere_data(n, d):\n",
    "    phi = np.linspace(0, np.pi, 20)\n",
    "    theta = np.linspace(0, 2 * np.pi, 40)\n",
    "    x = np.outer(np.sin(theta), np.cos(phi))\n",
    "    y = np.outer(np.sin(theta), np.sin(phi))\n",
    "    z = np.outer(np.cos(theta), np.ones_like(phi))\n",
    "\n",
    "    X = sample_spherical(n, d).T\n",
    "\n",
    "    return X"
   ]
  },
  {
   "cell_type": "code",
   "execution_count": 274,
   "metadata": {},
   "outputs": [
    {
     "name": "stdout",
     "output_type": "stream",
     "text": [
      "0.002034741995668418\n"
     ]
    }
   ],
   "source": [
    "# n, r, m = 100, 3, 10 actual variables\n",
    "\n",
    "m, n, r = 100, 2, 10\n",
    "X = generate_sphere_data(m, n)\n",
    "# X = np.random.random((m, n))\n",
    "\n",
    "K = GaussianKernel(X)\n",
    "# K = X @ X.T\n",
    "\n",
    "error = NystromError(K, r)\n",
    "print(error)\n",
    "\n",
    "# angle = average_orthog(K, r)\n",
    "# print(angle)\n",
    "\n",
    "# increasing n increases the error substantially.\n",
    "# using spherical data increases error because kernel data is more orthog"
   ]
  }
 ],
 "metadata": {
  "kernelspec": {
   "display_name": "Python 3",
   "language": "python",
   "name": "python3"
  },
  "language_info": {
   "codemirror_mode": {
    "name": "ipython",
    "version": 3
   },
   "file_extension": ".py",
   "mimetype": "text/x-python",
   "name": "python",
   "nbconvert_exporter": "python",
   "pygments_lexer": "ipython3",
   "version": "3.9.6"
  }
 },
 "nbformat": 4,
 "nbformat_minor": 2
}
