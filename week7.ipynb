{
 "cells": [
  {
   "cell_type": "code",
   "execution_count": 385,
   "metadata": {},
   "outputs": [],
   "source": [
    "import pandas as pd\n",
    "import numpy as np\n",
    "import math\n",
    "\n",
    "def read_pdb_to_dataframe(pdb_path, model_index=1, parse_header=True):\n",
    "    from biopandas.pdb import PandasPdb\n",
    "    from prody import parsePDBHeader\n",
    "\n",
    "    atomic_df = PandasPdb().read_pdb(pdb_path)\n",
    "    if parse_header:\n",
    "        header = parsePDBHeader(pdb_path)\n",
    "    else:\n",
    "        header = None\n",
    "    atomic_df = atomic_df.get_model(model_index)\n",
    "    if len(atomic_df.df[\"ATOM\"]) == 0:\n",
    "        raise ValueError(f\"No model found for index: {model_index}\")\n",
    "\n",
    "    return atomic_df.df[\"ATOM\"], header\n",
    "\n",
    "def get_approximation(A, r):\n",
    "    U, S, Vh = np.linalg.svd(A, full_matrices=True)\n",
    "    return U[:, :r] @ np.diag(S[:r]) @ Vh[:r, :]\n",
    "\n",
    "def NystromMatrix(K, m):\n",
    "    A = K[:m, :m]\n",
    "    B = K[:m, m:]\n",
    "    C = K[m:, m:]\n",
    "\n",
    "    A_tilda = get_approximation(A, m)\n",
    "    C_tilda = B.T @ np.linalg.pinv(A_tilda) @ B\n",
    "    return np.block([[A, B], [B.T, C_tilda]])\n",
    "    \n",
    "def relative_error(A, A_tilda, norm):\n",
    "    eps = np.linalg.norm(A - A_tilda, ord=norm)\n",
    "    return round(eps / np.linalg.norm(A, ord=norm), 6)\n",
    "\n",
    "def procrustes(P1, P2):\n",
    "    U, S, Vh = np.linalg.svd(P2.T @ P1, full_matrices=True)\n",
    "    return Vh.T @ U.T\n",
    "\n",
    "def rmse(A, B):\n",
    "    assert(A.shape == B.shape)\n",
    "    norms = [np.linalg.norm(A[i] - B[i]) for i in range(601)]\n",
    "    return np.mean(norms)\n",
    "    # return np.sqrt(np.mean(np.sum((A - B)**2, axis=0)))\n",
    "\n",
    "def sparse(X, A, B, G):\n",
    "    import cvxpy \n",
    "    Weight_B1 = np.zeros((m-1, n))\n",
    "    for i in range(n):\n",
    "        Weight_B1[:r, i] = 1\n",
    "\n",
    "    Weight = np.vstack((Weight_B1, np.zeros(n)))\n",
    "\n",
    "    I,J = np.nonzero(Weight)\n",
    "    M = np.repeat(m-1, J.size)\n",
    "\n",
    "    Xr = X\n",
    "    Yr = cvxpy.Variable(shape=(r,n))\n",
    "\n",
    "    Xty = Xr.T @ Yr\n",
    "\n",
    "    constraints = [Xty[I, J] - Xty[M, J] == B[I, J] - B[M, J]]\n",
    "\n",
    "    # dummy minimization\n",
    "    p = cvxpy.Problem(cvxpy.Minimize(0), constraints)\n",
    "\n",
    "    p.solve()\n",
    "\n",
    "    if p.status in [\"infeasible\", \"unbounded\"]:\n",
    "        raise Exception(p.status)\n",
    "\n",
    "    Yr = Yr.value\n",
    "    Br = Xr.T @ Yr\n",
    "\n",
    "    # Approximation of G using modified Nystrom\n",
    "    G_mod1 = np.block([[A, Br], [Br.T, Yr.T @ Yr]])\n",
    "    G_mod2 = np.block([[A, Br], [Br.T, Br.T @ np.linalg.pinv(A) @ Br]])\n",
    "\n",
    "    error2 = np.linalg.norm(G-G_mod1,'fro')/np.linalg.norm(G,'fro')\n",
    "    error3 = np.linalg.norm(G-G_mod2,'fro')/np.linalg.norm(G,'fro')\n",
    "\n",
    "    print(error2)\n",
    "    print(error3)\n",
    "    \n",
    "def H(n):\n",
    "    return np.eye(n) - np.ones((n, n)) / n\n"
   ]
  },
  {
   "cell_type": "code",
   "execution_count": 386,
   "metadata": {},
   "outputs": [],
   "source": [
    "def sparse(X, A, B, G):\n",
    "    import cvxpy \n",
    "    Weight_B1 = np.zeros((m-1, n))\n",
    "    for i in range(n):\n",
    "        Weight_B1[:r, i] = 1\n",
    "\n",
    "    Weight = np.vstack((Weight_B1, np.zeros(n)))\n",
    "\n",
    "    I,J = np.nonzero(Weight)\n",
    "    M = np.repeat(m-1, J.size)\n",
    "\n",
    "    Xr = X\n",
    "    Yr = cvxpy.Variable(shape=(r,n))\n",
    "\n",
    "    Xty = Xr.T @ Yr\n",
    "\n",
    "    constraints = [Xty[I, J] - Xty[M, J] == B[I, J] - B[M, J]]\n",
    "\n",
    "    # dummy minimization\n",
    "    p = cvxpy.Problem(cvxpy.Minimize(0), constraints)\n",
    "\n",
    "    p.solve()\n",
    "\n",
    "    if p.status in [\"infeasible\", \"unbounded\"]:\n",
    "        raise Exception(p.status)\n",
    "\n",
    "    Yr = Yr.value\n",
    "    Br = Xr.T @ Yr\n",
    "\n",
    "    # Approximation of G using modified Nystrom\n",
    "    G_mod1 = np.block([[A, Br], [Br.T, Yr.T @ Yr]])\n",
    "    G_mod2 = np.block([[A, Br], [Br.T, Br.T @ np.linalg.pinv(A) @ Br]])\n",
    "\n",
    "    error2 = np.linalg.norm(G-G_mod1,'fro')/np.linalg.norm(G,'fro')\n",
    "    error3 = np.linalg.norm(G-G_mod2,'fro')/np.linalg.norm(G,'fro')\n",
    "\n",
    "    print(error2)\n",
    "    print(error3)"
   ]
  },
  {
   "cell_type": "code",
   "execution_count": 387,
   "metadata": {},
   "outputs": [
    {
     "name": "stdout",
     "output_type": "stream",
     "text": [
      "0.18066\n"
     ]
    },
    {
     "name": "stderr",
     "output_type": "stream",
     "text": [
      "/Users/brian/Library/Python/3.9/lib/python/site-packages/biopandas/pdb/pandas_pdb.py:681: SettingWithCopyWarning: \n",
      "A value is trying to be set on a copy of a slice from a DataFrame.\n",
      "Try using .loc[row_indexer,col_indexer] = value instead\n",
      "\n",
      "See the caveats in the documentation: https://pandas.pydata.org/pandas-docs/stable/user_guide/indexing.html#returning-a-view-versus-a-copy\n",
      "  idxs[\"end_idx\"] = ends.line_idx.values\n",
      "/var/folders/y_/46bgcn8165v3l9zfgzn0yfy00000gn/T/ipykernel_57336/918155602.py:5: DeprecationWarning: DataFrameGroupBy.apply operated on the grouping columns. This behavior is deprecated, and in a future version of pandas the grouping columns will be excluded from the operation. Either pass `include_groups=False` to exclude the groupings or explicitly select the grouping columns after groupby to silence this warning.\n",
      "  df_sorted = df.groupby('residue_number').apply(lambda x: x.sort_values(by='atom_name')).reset_index(drop=True)\n",
      "/var/folders/y_/46bgcn8165v3l9zfgzn0yfy00000gn/T/ipykernel_57336/918155602.py:6: DeprecationWarning: DataFrameGroupBy.apply operated on the grouping columns. This behavior is deprecated, and in a future version of pandas the grouping columns will be excluded from the operation. Either pass `include_groups=False` to exclude the groupings or explicitly select the grouping columns after groupby to silence this warning.\n",
      "  df_true_sorted = df_true.groupby('residue_number').apply(lambda x: x.sort_values(by='atom_name')).reset_index(drop=True)\n"
     ]
    }
   ],
   "source": [
    "df, df_header = read_pdb_to_dataframe('1ubq-af.pdb')\n",
    "df_true, df_true_header = read_pdb_to_dataframe('1ubq.pdb')\n",
    "df_true = df_true[:-1]\n",
    "\n",
    "df_sorted = df.groupby('residue_number').apply(lambda x: x.sort_values(by='atom_name')).reset_index(drop=True)\n",
    "df_true_sorted = df_true.groupby('residue_number').apply(lambda x: x.sort_values(by='atom_name')).reset_index(drop=True)\n",
    "\n",
    "P = df[[\"x_coord\", \"y_coord\", \"z_coord\"]].values\n",
    "P = P - np.mean(P, axis=0)\n",
    "P_true = df_true[[\"x_coord\", \"y_coord\", \"z_coord\"]].values\n",
    "P_true = P_true - np.mean(P_true, axis=0)\n",
    "\n",
    "R = procrustes(P_true, P)\n",
    "# print(rmse(P, P_true @ R))\n",
    "print(relative_error(P, P_true @ R, 'fro'))\n"
   ]
  },
  {
   "cell_type": "code",
   "execution_count": 388,
   "metadata": {},
   "outputs": [
    {
     "name": "stdout",
     "output_type": "stream",
     "text": [
      "0.179615\n"
     ]
    }
   ],
   "source": [
    "n = 19\n",
    "m, r = P.shape[0] - n, 3\n",
    "\n",
    "G = P @ P.T\n",
    "G = np.flip(G)\n",
    "G_nys = NystromMatrix(G, m)\n",
    "D, U = np.linalg.eig(G_nys)\n",
    "P_nys = np.real(U[:, :r] @ np.sqrt(np.diag(D[:r])))\n",
    "P_nys = P_nys - np.mean(P_nys, axis=0)\n",
    "P_nys = np.flip(P_nys)\n",
    "\n",
    "R = procrustes(P_nys, P_true)\n",
    "# print(rmse(P_true, P_nys @ R))\n",
    "print(relative_error(P_true, P_nys @ R, 'fro'))"
   ]
  },
  {
   "cell_type": "code",
   "execution_count": 389,
   "metadata": {},
   "outputs": [
    {
     "name": "stdout",
     "output_type": "stream",
     "text": [
      "0.179613\n"
     ]
    }
   ],
   "source": [
    "from scipy.spatial import distance_matrix\n",
    "P1 = np.flip(P)\n",
    "D = distance_matrix(P1, P1)\n",
    "D_nys = NystromMatrix(D, m)\n",
    "A = - (D_nys * D_nys) / 2\n",
    "B = H(m+n) @ A @ H(m+n)\n",
    "D, U = np.linalg.eig(B)\n",
    "X = np.real(U[:, :r] @ np.sqrt(np.diag(D[:r])))\n",
    "X = np.flip(X)\n",
    "R = procrustes(X, P_true)\n",
    "# print(rmse(P_true, X @ R))\n",
    "print(relative_error(P_true, X @ R, 'fro'))\n"
   ]
  },
  {
   "cell_type": "code",
   "execution_count": 390,
   "metadata": {},
   "outputs": [
    {
     "name": "stdout",
     "output_type": "stream",
     "text": [
      "1.266401767911556\n",
      "1.266417813912098\n"
     ]
    },
    {
     "name": "stderr",
     "output_type": "stream",
     "text": [
      "/Users/brian/Library/Python/3.9/lib/python/site-packages/cvxpy/reductions/solvers/solving_chain.py:336: FutureWarning: \n",
      "    Your problem is being solved with the ECOS solver by default. Starting in \n",
      "    CVXPY 1.5.0, Clarabel will be used as the default solver instead. To continue \n",
      "    using ECOS, specify the ECOS solver explicitly using the ``solver=cp.ECOS`` \n",
      "    argument to the ``problem.solve`` method.\n",
      "    \n",
      "  warnings.warn(ECOS_DEPRECATION_MSG, FutureWarning)\n"
     ]
    }
   ],
   "source": [
    "X = P[:m, :]\n",
    "Y = P[m:,:]\n",
    "A = X @ X.T\n",
    "B = X @ Y.T\n",
    "C = Y @ Y.T\n",
    "sparse(X.T, A.T, B, G)\n",
    "\n",
    "# sparse() only works for gram matrices\n",
    "\n"
   ]
  },
  {
   "cell_type": "code",
   "execution_count": 391,
   "metadata": {},
   "outputs": [],
   "source": [
    "# TODO: sparse code for distance from abiy\n",
    "# TODO: rotate via only the good residue groups?"
   ]
  },
  {
   "cell_type": "code",
   "execution_count": null,
   "metadata": {},
   "outputs": [],
   "source": []
  }
 ],
 "metadata": {
  "kernelspec": {
   "display_name": "Python 3",
   "language": "python",
   "name": "python3"
  },
  "language_info": {
   "codemirror_mode": {
    "name": "ipython",
    "version": 3
   },
   "file_extension": ".py",
   "mimetype": "text/x-python",
   "name": "python",
   "nbconvert_exporter": "python",
   "pygments_lexer": "ipython3",
   "version": "3.9.6"
  }
 },
 "nbformat": 4,
 "nbformat_minor": 2
}
